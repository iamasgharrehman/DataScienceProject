{
 "cells": [
  {
   "cell_type": "code",
   "execution_count": 2,
   "metadata": {},
   "outputs": [],
   "source": [
    "import os\n",
    "os.environ['MLFLOW_TRACKING_URI']='https://dagshub.com/iamasgharrehman/DataScienceProject.mlflow'\n",
    "os.environ['MLFLOW_TRACKING_USERNAME']='iamasgharrehman'\n",
    "os.environ['MLFLOW_TRACKING_PASSWORD']= '1b71a99195ff3f7e9c9802f1bff36ac015664d87'"
   ]
  },
  {
   "cell_type": "code",
   "execution_count": 3,
   "metadata": {},
   "outputs": [
    {
     "data": {
      "text/plain": [
       "'d:\\\\Data Science\\\\Udemy MLOPs\\\\DataScienceProject'"
      ]
     },
     "execution_count": 3,
     "metadata": {},
     "output_type": "execute_result"
    }
   ],
   "source": [
    "import os\n",
    "os.chdir('../')\n",
    "%pwd"
   ]
  },
  {
   "cell_type": "code",
   "execution_count": null,
   "metadata": {},
   "outputs": [],
   "source": []
  },
  {
   "cell_type": "code",
   "execution_count": 4,
   "metadata": {},
   "outputs": [],
   "source": [
    "from pathlib import Path\n",
    "from dataclasses import dataclass\n",
    "\n",
    "@dataclass\n",
    "class ModelEvaluationConfig:\n",
    "    root_dir: Path\n",
    "    test_data_path: Path\n",
    "    model_path: Path\n",
    "    metric_file_path: Path\n",
    "    all_params: dict\n",
    "    target_column: str\n",
    "    mlflow_uri: str\n",
    "    "
   ]
  },
  {
   "cell_type": "code",
   "execution_count": 5,
   "metadata": {},
   "outputs": [],
   "source": [
    "from src.datascience.constants import *\n",
    "from src.datascience.utils.common import read_yaml, create_directories, save_json"
   ]
  },
  {
   "cell_type": "code",
   "execution_count": 6,
   "metadata": {},
   "outputs": [],
   "source": [
    "# Model Evaluation Config\n",
    "class ConfigurationManager:\n",
    "    def __init__(self,\n",
    "                 config_filepath= CONFIG_FILE_PATH,\n",
    "                 params_filepath=PARAMS_FILE_PATH,\n",
    "                 schema_filepath=SCHEMA_FILE_PATH):\n",
    "        \n",
    "        self.config=read_yaml(config_filepath)\n",
    "        self.params=read_yaml(params_filepath)\n",
    "        self.schema=read_yaml(schema_filepath)\n",
    "\n",
    "        create_directories([self.config.artifacts_root])\n",
    "\n",
    "    def get_model_evaluation_config(self) -> ModelEvaluationConfig:\n",
    "        config= self.config.model_evaluation\n",
    "        schema=self.schema.TARGET_COLUMN\n",
    "        params=self.params.ElasticNet\n",
    "\n",
    "        create_directories([config.root_dir])\n",
    "\n",
    "        model_evaluation_config=ModelEvaluationConfig(\n",
    "            root_dir=config.root_dir,\n",
    "            test_data_path=config.test_data_path,\n",
    "            model_path=config.model_path,\n",
    "            metric_file_path=config.metric_file_path,\n",
    "            all_params=params,\n",
    "            target_column=schema.name,\n",
    "            mlflow_uri='https://dagshub.com/iamasgharrehman/DataScienceProject.mlflow'\n",
    "        )\n",
    "        return model_evaluation_config\n"
   ]
  },
  {
   "cell_type": "code",
   "execution_count": 7,
   "metadata": {},
   "outputs": [],
   "source": [
    "import os\n",
    "import pandas as pd\n",
    "import joblib\n",
    "from sklearn.metrics import mean_squared_error, mean_absolute_error, r2_score\n",
    "from urllib.parse import urlparse\n",
    "import mlflow\n",
    "import mlflow.sklearn\n",
    "import numpy as np"
   ]
  },
  {
   "cell_type": "code",
   "execution_count": 9,
   "metadata": {},
   "outputs": [],
   "source": [
    "## update Component\n",
    "class ModelEvaluation:\n",
    "    def __init__(self, config:ModelEvaluationConfig):\n",
    "        self.config=config\n",
    "\n",
    "    def eval_metrics(self, actual, pred):\n",
    "        rmse=np.sqrt(mean_squared_error(actual, pred))\n",
    "        mae=mean_absolute_error(actual, pred)\n",
    "        r2=r2_score(actual,pred)\n",
    "        return rmse, mae, r2\n",
    "    \n",
    "    def log_into_mlfow(self):\n",
    "        test_data=pd.read_csv(self.config.test_data_path)\n",
    "        model = joblib.load(self.config.model_path)\n",
    "\n",
    "        test_x = test_data.drop([self.config.target_column], axis=1)\n",
    "        test_y = test_data[self.config.target_column]\n",
    "\n",
    "        mlflow.set_registry_uri(self.config.mlflow_uri)\n",
    "        tracking_url_type_score = urlparse(mlflow.get_tracking_uri())\n",
    "\n",
    "        with mlflow.start_run():\n",
    "            predicted_qualities=model.predict(test_x)\n",
    "\n",
    "            (rmse,mae,r2) = self.eval_metrics(test_y, predicted_qualities)\n",
    "\n",
    "            # saving metrics as local\n",
    "            scores = {'rmse' : rmse, 'mae': mae, 'r2' : r2}\n",
    "            save_json(path=Path(self.config.metric_file_path), data=scores)\n",
    "\n",
    "\n",
    "            mlflow.log_params(self.config.all_params)\n",
    "\n",
    "            mlflow.log_metric(\"rmse\", rmse)\n",
    "            mlflow.log_metric('r2', r2)\n",
    "            mlflow.log_metric('mae', mae)\n",
    "\n",
    "            # Model Registry does not work with file store\n",
    "            if tracking_url_type_score !='file':\n",
    "                # Registor the model\n",
    "                # There are other ways to use the model Registry, which depend on the use case\n",
    "                # docs for more information\n",
    "                # https://mlflow.org/docs/latest/model-registry.html#api-workflow\n",
    "                mlflow.sklearn.log_model(model, \"model\", registered_model_name=\"ElasticnetModel\")\n",
    "\n",
    "            else:\n",
    "                mlflow.sklearn.log_model(model, 'model')"
   ]
  },
  {
   "cell_type": "code",
   "execution_count": 10,
   "metadata": {},
   "outputs": [
    {
     "name": "stdout",
     "output_type": "stream",
     "text": [
      "[2025-02-15 23:32:11,421: INFO: common: yaml file: config\\config.yaml loaded successfully]\n",
      "[2025-02-15 23:32:11,428: INFO: common: yaml file: params.yaml loaded successfully]\n",
      "[2025-02-15 23:32:11,460: INFO: common: yaml file: schema.yaml loaded successfully]\n",
      "[2025-02-15 23:32:11,468: INFO: common: created directory at: artifacts]\n",
      "[2025-02-15 23:32:11,475: INFO: common: created directory at: artifacts/model_evaluation]\n",
      "[2025-02-15 23:32:12,982: INFO: common: json file saved at: artifacts\\model_evaluation\\metrics.json]\n"
     ]
    },
    {
     "name": "stderr",
     "output_type": "stream",
     "text": [
      "2025/02/15 23:32:31 WARNING mlflow.models.model: Model logged without a signature and input example. Please set `input_example` parameter when logging the model to auto infer the model signature.\n",
      "Successfully registered model 'ElasticnetModel'.\n",
      "2025/02/15 23:32:35 INFO mlflow.store.model_registry.abstract_store: Waiting up to 300 seconds for model version to finish creation. Model name: ElasticnetModel, version 1\n",
      "Created version '1' of model 'ElasticnetModel'.\n"
     ]
    },
    {
     "name": "stdout",
     "output_type": "stream",
     "text": [
      "🏃 View run defiant-goat-405 at: https://dagshub.com/iamasgharrehman/DataScienceProject.mlflow/#/experiments/0/runs/01c6dbe4a3cc4811a72324a5056e20d7\n",
      "🧪 View experiment at: https://dagshub.com/iamasgharrehman/DataScienceProject.mlflow/#/experiments/0\n"
     ]
    }
   ],
   "source": [
    "try:\n",
    "    config = ConfigurationManager()\n",
    "    model_evaluation_config=config.get_model_evaluation_config()\n",
    "    model_evaluation=ModelEvaluation(model_evaluation_config)\n",
    "    model_evaluation.log_into_mlfow()\n",
    "\n",
    "except Exception as e:\n",
    "    raise e"
   ]
  }
 ],
 "metadata": {
  "kernelspec": {
   "display_name": "Python 3",
   "language": "python",
   "name": "python3"
  },
  "language_info": {
   "codemirror_mode": {
    "name": "ipython",
    "version": 3
   },
   "file_extension": ".py",
   "mimetype": "text/x-python",
   "name": "python",
   "nbconvert_exporter": "python",
   "pygments_lexer": "ipython3",
   "version": "3.10.0"
  }
 },
 "nbformat": 4,
 "nbformat_minor": 2
}
